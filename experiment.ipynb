{
 "cells": [
  {
   "cell_type": "code",
   "execution_count": 16,
   "metadata": {},
   "outputs": [],
   "source": [
    "examples = [\n",
    "    \"skate\",\n",
    "    \"stake\",\n",
    "    \"marble\",\n",
    "    \"marbles\",\n",
    "    \"elbram\",\n",
    "    \"kates\"\n",
    "]"
   ]
  },
  {
   "cell_type": "code",
   "execution_count": 17,
   "metadata": {},
   "outputs": [
    {
     "data": {
      "text/plain": [
       "[['a', 'e', 'k', 's', 't'],\n",
       " ['a', 'e', 'k', 's', 't'],\n",
       " ['a', 'b', 'e', 'l', 'm', 'r'],\n",
       " ['a', 'b', 'e', 'l', 'm', 'r', 's'],\n",
       " ['a', 'b', 'e', 'l', 'm', 'r'],\n",
       " ['a', 'e', 'k', 's', 't']]"
      ]
     },
     "execution_count": 17,
     "metadata": {},
     "output_type": "execute_result"
    }
   ],
   "source": [
    "def listify(string):\n",
    "    return sorted(list(string))\n",
    "\n",
    "examples = list(map(listify, examples))\n",
    "examples"
   ]
  },
  {
   "cell_type": "code",
   "execution_count": 18,
   "metadata": {},
   "outputs": [],
   "source": [
    "n_anagrams = 0\n",
    "while examples != []:\n",
    "    potential_anagram = examples.pop()\n",
    "    for ex in examples:\n",
    "        if ex == potential_anagram:\n",
    "            n_anagrams += 1"
   ]
  },
  {
   "cell_type": "code",
   "execution_count": 19,
   "metadata": {},
   "outputs": [
    {
     "data": {
      "text/plain": [
       "4"
      ]
     },
     "execution_count": 19,
     "metadata": {},
     "output_type": "execute_result"
    }
   ],
   "source": [
    "n_anagrams"
   ]
  },
  {
   "cell_type": "code",
   "execution_count": null,
   "metadata": {},
   "outputs": [],
   "source": []
  }
 ],
 "metadata": {
  "kernelspec": {
   "display_name": "Python 3",
   "language": "python",
   "name": "python3"
  },
  "language_info": {
   "codemirror_mode": {
    "name": "ipython",
    "version": 3
   },
   "file_extension": ".py",
   "mimetype": "text/x-python",
   "name": "python",
   "nbconvert_exporter": "python",
   "pygments_lexer": "ipython3",
   "version": "3.7.1"
  }
 },
 "nbformat": 4,
 "nbformat_minor": 2
}
